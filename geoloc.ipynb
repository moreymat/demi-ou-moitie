{
  "nbformat": 4,
  "nbformat_minor": 0,
  "metadata": {
    "colab": {
      "name": "geoloc.ipynb",
      "provenance": [],
      "collapsed_sections": []
    },
    "kernelspec": {
      "name": "python3",
      "display_name": "Python 3"
    }
  },
  "cells": [
    {
      "cell_type": "code",
      "metadata": {
        "colab": {
          "base_uri": "https://localhost:8080/"
        },
        "id": "X0qI6s3pTQPW",
        "outputId": "94bac0a9-6350-41b5-e3d6-8f0ca3460927"
      },
      "source": [
        "from google.colab import drive\n",
        "drive.mount('/content/drive')"
      ],
      "execution_count": 1,
      "outputs": [
        {
          "output_type": "stream",
          "text": [
            "Mounted at /content/drive\n"
          ],
          "name": "stdout"
        }
      ]
    },
    {
      "cell_type": "code",
      "metadata": {
        "id": "xQgoOG3GUfbD"
      },
      "source": [
        "import json\n",
        "#changer chemin du fichier\n",
        "with open('/content/drive/My Drive/RAMI/terrasses(1).json') as json_file: \n",
        "    data = json.load(json_file) "
      ],
      "execution_count": 31,
      "outputs": []
    },
    {
      "cell_type": "code",
      "metadata": {
        "colab": {
          "base_uri": "https://localhost:8080/"
        },
        "id": "pq47c_AYG0mk",
        "outputId": "e74c736d-3e5f-4a86-8bfc-6460eb8b2727"
      },
      "source": [
        "print(data['terrasses'])"
      ],
      "execution_count": 5,
      "outputs": [
        {
          "output_type": "stream",
          "text": [
            "[{'type': 'terrasse', 'societe': 'LEBOLVERT SARL ', 'adresses': '105 RUE ROME 13006 MARSEILLE ', 'date': 'NA', 'locs': [], 'facade': '3,50', 'largeur': 'NA', 'superficie': '8'}, {'type': 'terrasse', 'societe': 'GCP SARL ', 'adresses': '34 QUAI DU PORT 13002 MARSEILLE ', 'date': 'NA', 'locs': [], 'facade': 'NA', 'largeur': 'NA', 'superficie': 'NA'}, {'type': 'terrasse', 'societe': 'SARL ', 'adresses': '11 BD DUGOMMIER 13001 MARSEILLE ', 'date': 'NA', 'locs': [], 'facade': '1,10', 'largeur': 'NA', 'superficie': 'NA'}, {'type': 'terrasse', 'societe': 'MEL SAS ', 'adresses': 'RUE PASTORET 13006 MARSEILLE ', 'date': '26/10/2018 ', 'locs': [], 'facade': 'NA', 'largeur': 'NA', 'superficie': '5'}]\n"
          ],
          "name": "stdout"
        }
      ]
    },
    {
      "cell_type": "code",
      "metadata": {
        "colab": {
          "base_uri": "https://localhost:8080/"
        },
        "id": "MN9z4AVEWWj-",
        "outputId": "45c5d5d9-2628-4687-e9aa-fc1a7f217696"
      },
      "source": [
        "#récupère les adresses\n",
        "liste_adr = []\n",
        "for d in data['terrasses']:\n",
        "  liste_adr.append(d['adresses'])\n",
        "print(liste_adr)"
      ],
      "execution_count": 7,
      "outputs": [
        {
          "output_type": "stream",
          "text": [
            "['105 RUE ROME 13006 MARSEILLE ', '34 QUAI DU PORT 13002 MARSEILLE ', '11 BD DUGOMMIER 13001 MARSEILLE ', 'RUE PASTORET 13006 MARSEILLE ']\n"
          ],
          "name": "stdout"
        }
      ]
    },
    {
      "cell_type": "code",
      "metadata": {
        "id": "HfgUsY3IFvxS"
      },
      "source": [
        "import json\n",
        "import urllib\n",
        "import urllib.request    "
      ],
      "execution_count": 8,
      "outputs": []
    },
    {
      "cell_type": "code",
      "metadata": {
        "colab": {
          "base_uri": "https://localhost:8080/"
        },
        "id": "PaTf2wo_qUVW",
        "outputId": "7e457b0a-c7a6-4ef5-c31a-f3d7572756d2"
      },
      "source": [
        "print(liste_adr[0].split(' '))"
      ],
      "execution_count": 16,
      "outputs": [
        {
          "output_type": "stream",
          "text": [
            "['105', 'RUE', 'ROME', '13006', 'MARSEILLE', '']\n"
          ],
          "name": "stdout"
        }
      ]
    },
    {
      "cell_type": "code",
      "metadata": {
        "id": "8-bV65pbHxel",
        "colab": {
          "base_uri": "https://localhost:8080/"
        },
        "outputId": "d95d9fab-fb7e-4a8c-f2b2-e4d8ad326fcc"
      },
      "source": [
        "#traduis l'adresse en coordonnées\n",
        "listeCoordinates = []\n",
        "for adresses in liste_adr:\n",
        "  if adresses != '':\n",
        "    adr_array = adresses.split(\" \")\n",
        "    url = \"https://api-adresse.data.gouv.fr/search/?q=\"\n",
        "    for i in range(len(adr_array)-1):\n",
        "      ### partie de remplacement des caractères spéciaux, si y en a qui y sont pas les rajouter\n",
        "      a = adr_array[i].replace(\"’\",\"\")\n",
        "      b = a.replace(\"è\",\"e\")\n",
        "      ###\n",
        "      url += b+\"+\"\n",
        "    url += adr_array[len(adr_array)-1]\n",
        "    req = urllib.request.Request(url)\n",
        "    response = urllib.request.urlopen(req)\n",
        "    data = response.read()\n",
        "    values = json.loads(data)\n",
        "    listeCoordinates.append(values['features'][0]['geometry']['coordinates'])\n",
        "print(listeCoordinates)"
      ],
      "execution_count": 30,
      "outputs": [
        {
          "output_type": "stream",
          "text": [
            "[[5.380652, 43.291535], [5.372007, 43.296475], [5.380795, 43.298207], [5.384354, 43.29362]]\n"
          ],
          "name": "stdout"
        }
      ]
    },
    {
      "cell_type": "code",
      "metadata": {
        "id": "1ISbgKxGNuz-"
      },
      "source": [
        "#géocodage du json\n",
        "for i in range(len(data['terrasses'])):\n",
        "  data['terrasses'][i][\"locs:\"]=listeCoordinates[i]"
      ],
      "execution_count": 32,
      "outputs": []
    },
    {
      "cell_type": "code",
      "metadata": {
        "colab": {
          "base_uri": "https://localhost:8080/"
        },
        "id": "HvUe8gEwPdED",
        "outputId": "23a2ffe7-5191-4134-8da1-63f85367040f"
      },
      "source": [
        "for d in data['terrasses']:\n",
        "  print(d)"
      ],
      "execution_count": 33,
      "outputs": [
        {
          "output_type": "stream",
          "text": [
            "{'type': 'terrasse', 'societe': 'LEBOLVERT SARL ', 'adresses': '105 RUE ROME 13006 MARSEILLE ', 'date': 'NA', 'locs': [], 'facade': '3,50', 'largeur': 'NA', 'superficie': '8', 'locs:': [5.380652, 43.291535]}\n",
            "{'type': 'terrasse', 'societe': 'GCP SARL ', 'adresses': '34 QUAI DU PORT 13002 MARSEILLE ', 'date': 'NA', 'locs': [], 'facade': 'NA', 'largeur': 'NA', 'superficie': 'NA', 'locs:': [5.372007, 43.296475]}\n",
            "{'type': 'terrasse', 'societe': 'SARL ', 'adresses': '11 BD DUGOMMIER 13001 MARSEILLE ', 'date': 'NA', 'locs': [], 'facade': '1,10', 'largeur': 'NA', 'superficie': 'NA', 'locs:': [5.380795, 43.298207]}\n",
            "{'type': 'terrasse', 'societe': 'MEL SAS ', 'adresses': 'RUE PASTORET 13006 MARSEILLE ', 'date': '26/10/2018 ', 'locs': [], 'facade': 'NA', 'largeur': 'NA', 'superficie': '5', 'locs:': [5.384354, 43.29362]}\n"
          ],
          "name": "stdout"
        }
      ]
    },
    {
      "cell_type": "code",
      "metadata": {
        "id": "h-CewvUXP40N"
      },
      "source": [
        "import json\n",
        "#écriture dans le fichier\n",
        "with open('test.json', 'w') as f:\n",
        "    json.dump(data, f, indent=4)"
      ],
      "execution_count": 34,
      "outputs": []
    }
  ]
}